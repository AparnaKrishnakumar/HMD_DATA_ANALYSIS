{
 "cells": [
  {
   "cell_type": "code",
   "execution_count": 1,
   "id": "fe1ee7cc",
   "metadata": {},
   "outputs": [],
   "source": [
    "import pandas as pd"
   ]
  },
  {
   "cell_type": "code",
   "execution_count": 4,
   "id": "1c17c383",
   "metadata": {},
   "outputs": [],
   "source": [
    "# Load the Excel file\n",
    "df1 = pd.read_excel('Population_Final.xlsx')\n",
    "#Files contains the population, birt and death details for each country for each year\n",
    "df2 = pd.read_excel('Death_Final.xlsx')\n",
    "df3 = pd.read_excel('Birth_Final.xlsx')"
   ]
  },
  {
   "cell_type": "code",
   "execution_count": 5,
   "id": "6d17dcb4",
   "metadata": {},
   "outputs": [
    {
     "name": "stdout",
     "output_type": "stream",
     "text": [
      "       PopName  Year  Population\n",
      "0  New Zealand  1921     63402.0\n",
      "1  New Zealand  1921     64720.0\n",
      "2  New Zealand  1921     59780.0\n",
      "3  New Zealand  1921     52889.0\n",
      "4  New Zealand  1921     49224.0\n",
      "       PopName    Year  Deaths\n",
      "0  New Zealand  1876.0   744.0\n",
      "1  New Zealand  1876.0   159.0\n",
      "2  New Zealand  1876.0    64.0\n",
      "3  New Zealand  1876.0    36.0\n",
      "4  New Zealand  1876.0    47.0\n",
      "  PopName    Year   Births\n",
      "0  Israel  1983.0  50838.0\n",
      "1  Israel  1984.0  50914.0\n",
      "2  Israel  1985.0  50911.0\n",
      "3  Israel  1986.0  50936.0\n",
      "4  Israel  1987.0  50559.0\n"
     ]
    }
   ],
   "source": [
    "# Print the contents of the sheets\n",
    "print(df1.head())\n",
    "print(df2.head())\n",
    "print(df3.head())"
   ]
  },
  {
   "cell_type": "code",
   "execution_count": 8,
   "id": "207f37b3",
   "metadata": {},
   "outputs": [],
   "source": [
    "# Define a dictionary to map countries to regions\n",
    "country_to_region = {\n",
    "    'Australia': 'Oceania',\n",
    "    'Austria': 'Europe',\n",
    "    'Belgium': 'Europe',\n",
    "    'Canada': 'North America',\n",
    "    'Chile': 'South America',\n",
    "    'Denmark': 'Europe',\n",
    "    'Finland': 'Europe',\n",
    "    'Italy': 'Europe',\n",
    "    'Japan': 'Asia',\n",
    "    'United states of America': 'North America',\n",
    "    'New Zealand' : 'Oceania',\n",
    "    'Israel': 'Asia'\n",
    "}\n",
    "\n",
    "# Filter the data by the desired PopName\n",
    "populations = df1[df1['PopName'].isin(['Australia', 'Austria', 'Belgium', 'Canada','New Zealand','Israel', 'Chile', 'Denmark','Finland','Italy','Japan','United states of America'])]\n",
    "# Filter the data by the desired PopName\n",
    "deaths = df2[df2['PopName'].isin(['Australia', 'Austria', 'Belgium', 'Canada','New Zealand','Israel', 'Chile', 'Denmark','Finland','Italy','Japan','United states of America'])]\n",
    "# Filter the data by the desired PopName\n",
    "births = df3[df3['PopName'].isin(['Australia', 'Austria', 'Belgium', 'Canada','New Zealand','Israel', 'Chile', 'Denmark','Finland','Italy','Japan','United states of America'])]\n",
    "# Add a new column 'Region' by mapping PopName to Region using the dictionary\n",
    "populations['Region'] = populations['PopName'].map(country_to_region)\n",
    "deaths['Region'] = deaths['PopName'].map(country_to_region)\n",
    "births['Region'] = births['PopName'].map(country_to_region)\n",
    "# Group the data by Year, Region, and PopName, and sum the populations\n",
    "populations = populations.groupby(['Year', 'Region', 'PopName'])['Population'].sum().reset_index()\n",
    "deaths = deaths.groupby(['Year', 'Region', 'PopName'])['Deaths'].sum().reset_index()\n",
    "births = births.groupby(['Year', 'Region', 'PopName'])['Births'].sum().reset_index()\n",
    "\n",
    "# Get the unique years in the data\n",
    "years = populations['Year'].unique()\n",
    "\n"
   ]
  },
  {
   "cell_type": "code",
   "execution_count": 15,
   "id": "9bf428d2",
   "metadata": {},
   "outputs": [],
   "source": [
    "# Create a new DataFrame for the output\n",
    "output = pd.DataFrame(columns=['Year', 'Region', 'PopName', 'Population', 'Births', 'Deaths'])\n",
    "\n",
    "# Loop through the years\n",
    "for year in years:\n",
    "    # Filter the data for the current year\n",
    "    year_populations = populations[populations['Year'] == year]\n",
    "    year_births = df3[df3['Year'] == year]\n",
    "    year_deaths = df2[df2['Year'] == year]\n",
    "    \n",
    "    # Loop through the desired PopName\n",
    "    for pop_name in ['Australia', 'Austria', 'Belgium', 'Canada','New Zealand','Israel', 'Chile', 'Denmark','Finland','Italy','Japan','United states of America']:\n",
    "        # Check if there is data for the current year and PopName\n",
    "        if ((year_populations['PopName'] == pop_name).any()):\n",
    "            # Get the population for the current year and PopName\n",
    "            population = year_populations[year_populations['PopName'] == pop_name]['Population'].iloc[0]\n",
    "            # Get the region for the current PopName\n",
    "            region = year_populations[year_populations['PopName'] == pop_name]['Region'].iloc[0]\n",
    "        else:\n",
    "            # Fill with mean population and region for the current year\n",
    "            population = year_populations['Population'].mean()\n",
    "            region = country_to_region[pop_name]\n",
    "        \n",
    "        # Check if there is data for the current year, country and births\n",
    "        if ((year_births['PopName'] == pop_name).any()):\n",
    "            birth_rate = year_births[year_births['PopName'] == pop_name]['Births'].iloc[0]\n",
    "        else:\n",
    "            birth_rate = year_births['Births'].mean()\n",
    "\n",
    "        # Check if there is data for the current year, country and deaths\n",
    "        if ((year_deaths['PopName'] == pop_name).any()):\n",
    "            death_rate = year_deaths[year_deaths['PopName'] == pop_name]['Deaths'].iloc[0]\n",
    "        else:\n",
    "            death_rate = year_deaths['Deaths'].mean()\n",
    "\n",
    "        # Add the data to the output DataFrame\n",
    "        output = output.append({'Year': year, 'Region': region, 'PopName': pop_name, 'Population': population, 'Births': birth_rate, 'Deaths': death_rate}, ignore_index=True)\n",
    "# Write the output DataFrame to Excel file\n",
    "output.to_excel('B.xlsx', index=False)\n"
   ]
  },
  {
   "cell_type": "code",
   "execution_count": null,
   "id": "3fd5c419",
   "metadata": {},
   "outputs": [],
   "source": []
  },
  {
   "cell_type": "code",
   "execution_count": 16,
   "id": "4ab4c3ea",
   "metadata": {},
   "outputs": [
    {
     "data": {
      "text/html": [
       "Click here to download: <a href='B.xlsx' target='_blank'>B.xlsx</a><br>"
      ],
      "text/plain": [
       "C:\\Users\\ASUS\\B.xlsx"
      ]
     },
     "execution_count": 16,
     "metadata": {},
     "output_type": "execute_result"
    }
   ],
   "source": [
    "from IPython.display import FileLink\n",
    "\n",
    "# Generate download link for output Excel file\n",
    "FileLink('B.xlsx', result_html_prefix=\"Click here to download: \")"
   ]
  }
 ],
 "metadata": {
  "kernelspec": {
   "display_name": "Python 3 (ipykernel)",
   "language": "python",
   "name": "python3"
  },
  "language_info": {
   "codemirror_mode": {
    "name": "ipython",
    "version": 3
   },
   "file_extension": ".py",
   "mimetype": "text/x-python",
   "name": "python",
   "nbconvert_exporter": "python",
   "pygments_lexer": "ipython3",
   "version": "3.7.13"
  }
 },
 "nbformat": 4,
 "nbformat_minor": 5
}
